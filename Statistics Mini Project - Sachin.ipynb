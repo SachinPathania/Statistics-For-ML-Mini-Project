{
 "cells": [
  {
   "cell_type": "markdown",
   "metadata": {},
   "source": [
    "### 1. Perform the following statistical analysis on the fifa world cup dataset. The dataset consists of player information which includes height, weight overall rating, potential etc. Data Cleaning and basic EDA process needs to be performed. \n",
    "\n",
    "a)\tAssuming age as population, perform the central limit theorem with sample size of 200. Find the standard error and the mean of sampling distribution. Compare the results with population mean and standard deviation. Explain in non-technical terms why the estimated standard error of a sample mean tends to decrease with an increase in sample size\n",
    "\n",
    "b)\tIs there any evidence that the players overall rating is greater than 80?\n",
    "\n",
    "c)\tPerform the statistical test to identify whether preferred foot has any impact on potential. Also, perform the graphical analysis.\n",
    "\n",
    "d)\tPerform the statistical test to identify the relation between the overall rating and potential. [Assume both are continuous data points].\n",
    "\n",
    "e)\tDoes skill move have any effect in overall rating. Perform the graphical analysis and the statistical analysis.\n",
    "\n",
    "\n",
    "\n"
   ]
  },
  {
   "cell_type": "markdown",
   "metadata": {},
   "source": [
    "#### Note: \n",
    "1) Perform all the Statistical analysis with 5%(Significance level). \n",
    "\n",
    "2) Perform the test of normality and test of variance in the appropriate places."
   ]
  },
  {
   "cell_type": "code",
   "execution_count": 33,
   "metadata": {},
   "outputs": [],
   "source": [
    "#import libraries\n",
    "import pandas as pd\n",
    "import numpy as np\n",
    "import matplotlib.pyplot as plt\n",
    "import seaborn as sns\n",
    "import warnings\n",
    "warnings.filterwarnings('ignore')\n",
    "from scipy import stats\n",
    "from scipy.stats import chi2_contingency\n",
    "from scipy.stats import chi2\n",
    "from scipy.stats import chisquare\n",
    "import random \n",
    "from scipy.stats import shapiro,levene\n",
    "from statsmodels.stats import weightstats as stests\n",
    "from scipy.stats import f_oneway\n",
    "import statsmodels.stats.multicomp as mc"
   ]
  },
  {
   "cell_type": "code",
   "execution_count": 2,
   "metadata": {},
   "outputs": [
    {
     "data": {
      "text/html": [
       "<div>\n",
       "<style scoped>\n",
       "    .dataframe tbody tr th:only-of-type {\n",
       "        vertical-align: middle;\n",
       "    }\n",
       "\n",
       "    .dataframe tbody tr th {\n",
       "        vertical-align: top;\n",
       "    }\n",
       "\n",
       "    .dataframe thead th {\n",
       "        text-align: right;\n",
       "    }\n",
       "</style>\n",
       "<table border=\"1\" class=\"dataframe\">\n",
       "  <thead>\n",
       "    <tr style=\"text-align: right;\">\n",
       "      <th></th>\n",
       "      <th>Name</th>\n",
       "      <th>Age</th>\n",
       "      <th>Nationality</th>\n",
       "      <th>Overall_rating</th>\n",
       "      <th>Potential</th>\n",
       "      <th>Club</th>\n",
       "      <th>Preferred Foot</th>\n",
       "      <th>International Reputation</th>\n",
       "      <th>Weak Foot</th>\n",
       "      <th>Skill Moves</th>\n",
       "      <th>Work Rate</th>\n",
       "      <th>Position</th>\n",
       "      <th>Jersey Number</th>\n",
       "      <th>Height</th>\n",
       "      <th>Weight</th>\n",
       "    </tr>\n",
       "  </thead>\n",
       "  <tbody>\n",
       "    <tr>\n",
       "      <th>0</th>\n",
       "      <td>L. Messi</td>\n",
       "      <td>31</td>\n",
       "      <td>Argentina</td>\n",
       "      <td>94</td>\n",
       "      <td>94</td>\n",
       "      <td>FC Barcelona</td>\n",
       "      <td>Left</td>\n",
       "      <td>5</td>\n",
       "      <td>4</td>\n",
       "      <td>4</td>\n",
       "      <td>Medium/ Medium</td>\n",
       "      <td>RF</td>\n",
       "      <td>10</td>\n",
       "      <td>5.583333</td>\n",
       "      <td>159</td>\n",
       "    </tr>\n",
       "    <tr>\n",
       "      <th>1</th>\n",
       "      <td>Cristiano Ronaldo</td>\n",
       "      <td>33</td>\n",
       "      <td>Portugal</td>\n",
       "      <td>94</td>\n",
       "      <td>94</td>\n",
       "      <td>Juventus</td>\n",
       "      <td>Right</td>\n",
       "      <td>5</td>\n",
       "      <td>4</td>\n",
       "      <td>5</td>\n",
       "      <td>High/ Low</td>\n",
       "      <td>ST</td>\n",
       "      <td>7</td>\n",
       "      <td>6.166667</td>\n",
       "      <td>183</td>\n",
       "    </tr>\n",
       "    <tr>\n",
       "      <th>2</th>\n",
       "      <td>Neymar Jr</td>\n",
       "      <td>26</td>\n",
       "      <td>Brazil</td>\n",
       "      <td>92</td>\n",
       "      <td>93</td>\n",
       "      <td>Paris Saint-Germain</td>\n",
       "      <td>Right</td>\n",
       "      <td>5</td>\n",
       "      <td>5</td>\n",
       "      <td>5</td>\n",
       "      <td>High/ Medium</td>\n",
       "      <td>LW</td>\n",
       "      <td>10</td>\n",
       "      <td>5.750000</td>\n",
       "      <td>150</td>\n",
       "    </tr>\n",
       "    <tr>\n",
       "      <th>3</th>\n",
       "      <td>De Gea</td>\n",
       "      <td>27</td>\n",
       "      <td>Spain</td>\n",
       "      <td>91</td>\n",
       "      <td>93</td>\n",
       "      <td>Manchester United</td>\n",
       "      <td>Right</td>\n",
       "      <td>4</td>\n",
       "      <td>3</td>\n",
       "      <td>1</td>\n",
       "      <td>Medium/ Medium</td>\n",
       "      <td>GK</td>\n",
       "      <td>1</td>\n",
       "      <td>6.333333</td>\n",
       "      <td>168</td>\n",
       "    </tr>\n",
       "    <tr>\n",
       "      <th>4</th>\n",
       "      <td>K. De Bruyne</td>\n",
       "      <td>27</td>\n",
       "      <td>Belgium</td>\n",
       "      <td>91</td>\n",
       "      <td>92</td>\n",
       "      <td>Manchester City</td>\n",
       "      <td>Right</td>\n",
       "      <td>4</td>\n",
       "      <td>5</td>\n",
       "      <td>4</td>\n",
       "      <td>High/ High</td>\n",
       "      <td>RCM</td>\n",
       "      <td>7</td>\n",
       "      <td>5.083333</td>\n",
       "      <td>154</td>\n",
       "    </tr>\n",
       "  </tbody>\n",
       "</table>\n",
       "</div>"
      ],
      "text/plain": [
       "                Name  Age Nationality  Overall_rating  Potential  \\\n",
       "0           L. Messi   31   Argentina              94         94   \n",
       "1  Cristiano Ronaldo   33    Portugal              94         94   \n",
       "2          Neymar Jr   26      Brazil              92         93   \n",
       "3             De Gea   27       Spain              91         93   \n",
       "4       K. De Bruyne   27     Belgium              91         92   \n",
       "\n",
       "                  Club Preferred Foot  International Reputation  Weak Foot  \\\n",
       "0         FC Barcelona           Left                         5          4   \n",
       "1             Juventus          Right                         5          4   \n",
       "2  Paris Saint-Germain          Right                         5          5   \n",
       "3    Manchester United          Right                         4          3   \n",
       "4      Manchester City          Right                         4          5   \n",
       "\n",
       "   Skill Moves       Work Rate Position  Jersey Number    Height  Weight  \n",
       "0            4  Medium/ Medium       RF             10  5.583333     159  \n",
       "1            5       High/ Low       ST              7  6.166667     183  \n",
       "2            5    High/ Medium       LW             10  5.750000     150  \n",
       "3            1  Medium/ Medium       GK              1  6.333333     168  \n",
       "4            4      High/ High      RCM              7  5.083333     154  "
      ]
     },
     "execution_count": 2,
     "metadata": {},
     "output_type": "execute_result"
    }
   ],
   "source": [
    "f = pd.read_csv('fifa_stats.csv')\n",
    "f.head()"
   ]
  },
  {
   "cell_type": "code",
   "execution_count": 3,
   "metadata": {},
   "outputs": [
    {
     "data": {
      "text/plain": [
       "(2000, 15)"
      ]
     },
     "execution_count": 3,
     "metadata": {},
     "output_type": "execute_result"
    }
   ],
   "source": [
    "f.shape"
   ]
  },
  {
   "cell_type": "code",
   "execution_count": 4,
   "metadata": {},
   "outputs": [
    {
     "name": "stdout",
     "output_type": "stream",
     "text": [
      "<class 'pandas.core.frame.DataFrame'>\n",
      "RangeIndex: 2000 entries, 0 to 1999\n",
      "Data columns (total 15 columns):\n",
      " #   Column                    Non-Null Count  Dtype  \n",
      "---  ------                    --------------  -----  \n",
      " 0   Name                      2000 non-null   object \n",
      " 1   Age                       2000 non-null   int64  \n",
      " 2   Nationality               2000 non-null   object \n",
      " 3   Overall_rating            2000 non-null   int64  \n",
      " 4   Potential                 2000 non-null   int64  \n",
      " 5   Club                      1981 non-null   object \n",
      " 6   Preferred Foot            2000 non-null   object \n",
      " 7   International Reputation  2000 non-null   int64  \n",
      " 8   Weak Foot                 2000 non-null   int64  \n",
      " 9   Skill Moves               2000 non-null   int64  \n",
      " 10  Work Rate                 2000 non-null   object \n",
      " 11  Position                  2000 non-null   object \n",
      " 12  Jersey Number             2000 non-null   int64  \n",
      " 13  Height                    2000 non-null   float64\n",
      " 14  Weight                    2000 non-null   int64  \n",
      "dtypes: float64(1), int64(8), object(6)\n",
      "memory usage: 234.5+ KB\n"
     ]
    }
   ],
   "source": [
    "f.info()"
   ]
  },
  {
   "cell_type": "markdown",
   "metadata": {},
   "source": [
    "#### a) Assuming age as population, perform the central limit theorem with sample size of 200. Find the standard error and the mean of sampling distribution. Compare the results with population mean and standard deviation. Explain in non-technical terms why the estimated standard error of a sample mean tends to decrease with an increase in sample size"
   ]
  },
  {
   "cell_type": "code",
   "execution_count": 20,
   "metadata": {},
   "outputs": [
    {
     "data": {
      "text/plain": [
       "278     26\n",
       "492     27\n",
       "1266    23\n",
       "557     21\n",
       "871     35\n",
       "        ..\n",
       "619     25\n",
       "735     19\n",
       "627     26\n",
       "142     30\n",
       "1274    31\n",
       "Name: Age, Length: 200, dtype: int64"
      ]
     },
     "execution_count": 20,
     "metadata": {},
     "output_type": "execute_result"
    }
   ],
   "source": [
    "age_sample=f['Age'].sample(n=200,random_state=2)\n",
    "age_sample"
   ]
  },
  {
   "cell_type": "code",
   "execution_count": 30,
   "metadata": {},
   "outputs": [
    {
     "name": "stdout",
     "output_type": "stream",
     "text": [
      "Population mean :  27.2315\n",
      "Mean of Sampling distribution is:  27.22\n",
      "Standard deviation is: 3.8590612753574516\n",
      "Standard Error:  0.272876839681966\n",
      "sampling error:  0.01150000000000162\n",
      "Standard error decreases when sample size increases – as the sample size gets closer to the true size of the population, the sample means cluster more and more around the true population mean\n"
     ]
    }
   ],
   "source": [
    "#a.\n",
    "random.seed(0)\n",
    "age_list = list(f.Age)\n",
    "n = 200\n",
    "mu = np.mean(age_list)\n",
    "rand_samp = random.sample(population=age_list,k=200)\n",
    "xbar = np.mean(rand_samp)\n",
    "print('Population mean : ',mu)\n",
    "print('Mean of Sampling distribution is: ',xbar)\n",
    "sigma = np.std(age_list,ddof=1)\n",
    "print('Standard deviation is:',sigma)\n",
    "se = sigma/np.sqrt(n)\n",
    "print('Standard Error: ',se)\n",
    "print('sampling error: ',abs(mu-xbar))\n",
    "print('Standard error decreases when sample size increases – as the sample size gets closer to the true size of the population, the sample means cluster more and more around the true population mean')\n"
   ]
  },
  {
   "cell_type": "markdown",
   "metadata": {},
   "source": [
    "#### b) Is there any evidence that the players overall rating is greater than 80?"
   ]
  },
  {
   "cell_type": "code",
   "execution_count": 35,
   "metadata": {},
   "outputs": [
    {
     "name": "stdout",
     "output_type": "stream",
     "text": [
      "(0.8525537848472595, 1.0221183102662362e-39)\n",
      "P value is less than alpha, Hence population is not normalized\n"
     ]
    }
   ],
   "source": [
    "#b\n",
    "print(shapiro(f.Overall_rating))\n",
    "print('P value is less than alpha, Hence population is not normalized')"
   ]
  },
  {
   "cell_type": "code",
   "execution_count": 36,
   "metadata": {
    "scrolled": true
   },
   "outputs": [
    {
     "data": {
      "text/plain": [
       "True"
      ]
     },
     "execution_count": 36,
     "metadata": {},
     "output_type": "execute_result"
    }
   ],
   "source": [
    "1.0221183102662362e-39<0.05"
   ]
  },
  {
   "cell_type": "code",
   "execution_count": 40,
   "metadata": {},
   "outputs": [
    {
     "name": "stdout",
     "output_type": "stream",
     "text": [
      "1.0\n",
      "Fail to reject NULL\n"
     ]
    }
   ],
   "source": [
    "# since data is not normal performing wilcoxon test\n",
    "# ho: overall rating<=80\n",
    "#h1: overall rating>80\n",
    "hyp_median = 80\n",
    "alpha = 0.05\n",
    "diff = f['Overall_rating'] -hyp_median\n",
    "test_stats , pvalue = stats.wilcoxon(diff,alternative='greater')\n",
    "print(pvalue)\n",
    "if pvalue > alpha:\n",
    "    print('Fail to reject NULL')\n",
    "else:\n",
    "    print('Accept Alternate')"
   ]
  },
  {
   "cell_type": "markdown",
   "metadata": {},
   "source": [
    "#### c) Perform the statistical test to identify whether preferred foot has any impact on potential. Also, perform the graphical analysis."
   ]
  },
  {
   "cell_type": "code",
   "execution_count": 59,
   "metadata": {
    "scrolled": true
   },
   "outputs": [
    {
     "name": "stdout",
     "output_type": "stream",
     "text": [
      "(0.9422042369842529, 1.7173475098594682e-12)\n",
      "(0.9369121193885803, 5.342442151473519e-25)\n",
      "LeveneResult(statistic=1.8561933767199223, pvalue=0.17321833707970302)\n",
      "Ttest_indResult(statistic=1.5378037422592814, pvalue=0.12425494914461453)\n"
     ]
    }
   ],
   "source": [
    "#c\n",
    "# ho: preferred foot do not have any impact on potential\n",
    "# h1: preferred foot siginicant impact on potential\n",
    "\n",
    "l=f[f['Preferred Foot']=='Left']['Potential']\n",
    "r=f[f['Preferred Foot']=='Right']['Potential']\n",
    "print(stats.shapiro(l))\n",
    "print(stats.shapiro(r))\n",
    "print(stats.levene(l,r))\n",
    "print(stats.ttest_ind(l,r))"
   ]
  },
  {
   "cell_type": "raw",
   "metadata": {},
   "source": [
    "# since p value is greater than 0.05 hence fail to reject null hypothesis and it can be inferred that preferred foot do not have any impact on potential"
   ]
  },
  {
   "cell_type": "code",
   "execution_count": 57,
   "metadata": {},
   "outputs": [
    {
     "data": {
      "image/png": "[encoded data removed]",
      "text/plain": [
       "<Figure size 612x540 with 1 Axes>"
      ]
     },
     "metadata": {
      "needs_background": "light"
     },
     "output_type": "display_data"
    }
   ],
   "source": [
    "plt.figure(figsize=[8.5,7.5])\n",
    "sns.distplot(l)\n",
    "sns.distplot(r)\n",
    "plt.show()"
   ]
  },
  {
   "cell_type": "markdown",
   "metadata": {},
   "source": [
    "#### d) Perform the statistical test to identify the relation between the overall rating and potential. [Assume both are continuous data points]."
   ]
  },
  {
   "cell_type": "code",
   "execution_count": 63,
   "metadata": {},
   "outputs": [
    {
     "name": "stdout",
     "output_type": "stream",
     "text": [
      "(0.8525537848472595, 1.0221183102662362e-39)\n",
      "(0.9384800791740417, 5.016414837142018e-28)\n",
      "LeveneResult(statistic=141.9704137312041, pvalue=3.4406841059319607e-32)\n",
      "(-17.89175319557915, 1.367376995153535e-71)\n"
     ]
    }
   ],
   "source": [
    "o = f['Overall_rating']\n",
    "p = f['Potential']\n",
    "print(stats.shapiro(o))\n",
    "print(stats.shapiro(p))\n",
    "print(stats.levene(o,p))\n",
    "print(stests.ztest(x1=o,x2=p,alternative='two-sided'))\n",
    "# As P-value is less than 5% thus there is no significant relationship between Overall Rating and Potential"
   ]
  },
  {
   "cell_type": "markdown",
   "metadata": {},
   "source": [
    "#### e) Does skill move have any effect in overall rating. Perform the graphical analysis and the statistical analysis."
   ]
  },
  {
   "cell_type": "code",
   "execution_count": 64,
   "metadata": {
    "scrolled": true
   },
   "outputs": [
    {
     "name": "stdout",
     "output_type": "stream",
     "text": [
      "F_onewayResult(statistic=31.085141826531746, pvalue=3.8236370526660514e-25)\n"
     ]
    }
   ],
   "source": [
    "#e\n",
    "a=f[f['Skill Moves']==1]['Overall_rating']\n",
    "b=f[f['Skill Moves']==2]['Overall_rating']\n",
    "c=f[f['Skill Moves']==3]['Overall_rating']\n",
    "d=f[f['Skill Moves']==4]['Overall_rating']\n",
    "e=f[f['Skill Moves']==5]['Overall_rating']\n",
    "print(stats.f_oneway(a,b,c,d,e))"
   ]
  },
  {
   "cell_type": "raw",
   "metadata": {},
   "source": [
    "# since p value is less than alpha so reject null hypothesis and it can be inferred that skill moves have effect on overall rating"
   ]
  },
  {
   "cell_type": "code",
   "execution_count": 67,
   "metadata": {
    "scrolled": true
   },
   "outputs": [
    {
     "data": {
      "image/png": "[encoded data removed]",
      "text/plain": [
       "<Figure size 684x468 with 1 Axes>"
      ]
     },
     "metadata": {
      "needs_background": "light"
     },
     "output_type": "display_data"
    }
   ],
   "source": [
    "plt.figure(figsize=(9.5,6.5))\n",
    "sns.distplot(a)\n",
    "sns.distplot(b)\n",
    "sns.distplot(c)\n",
    "sns.distplot(d)\n",
    "sns.distplot(e)\n",
    "plt.show()"
   ]
  },
  {
   "cell_type": "code",
   "execution_count": 68,
   "metadata": {
    "scrolled": true
   },
   "outputs": [
    {
     "data": {
      "text/html": [
       "<table class=\"simpletable\">\n",
       "<caption>Multiple Comparison of Means - Tukey HSD, FWER=0.05</caption>\n",
       "<tr>\n",
       "  <th>group1</th> <th>group2</th> <th>meandiff</th>  <th>p-adj</th>  <th>lower</th>   <th>upper</th>  <th>reject</th>\n",
       "</tr>\n",
       "<tr>\n",
       "     <td>1</td>      <td>2</td>    <td>-0.7143</td> <td>0.0799</td> <td>-1.4782</td> <td>0.0496</td>   <td>False</td>\n",
       "</tr>\n",
       "<tr>\n",
       "     <td>1</td>      <td>3</td>    <td>-1.1876</td>  <td>0.001</td> <td>-1.8826</td> <td>-0.4926</td>  <td>True</td> \n",
       "</tr>\n",
       "<tr>\n",
       "     <td>1</td>      <td>4</td>    <td>0.0901</td>    <td>0.9</td>  <td>-0.6385</td> <td>0.8187</td>   <td>False</td>\n",
       "</tr>\n",
       "<tr>\n",
       "     <td>1</td>      <td>5</td>    <td>3.4937</td>   <td>0.001</td> <td>1.9646</td>  <td>5.0227</td>   <td>True</td> \n",
       "</tr>\n",
       "<tr>\n",
       "     <td>2</td>      <td>3</td>    <td>-0.4733</td> <td>0.1091</td> <td>-1.0061</td> <td>0.0595</td>   <td>False</td>\n",
       "</tr>\n",
       "<tr>\n",
       "     <td>2</td>      <td>4</td>    <td>0.8044</td>  <td>0.0013</td> <td>0.2284</td>  <td>1.3804</td>   <td>True</td> \n",
       "</tr>\n",
       "<tr>\n",
       "     <td>2</td>      <td>5</td>     <td>4.208</td>   <td>0.001</td> <td>2.7455</td>  <td>5.6705</td>   <td>True</td> \n",
       "</tr>\n",
       "<tr>\n",
       "     <td>3</td>      <td>4</td>    <td>1.2777</td>   <td>0.001</td> <td>0.7968</td>  <td>1.7586</td>   <td>True</td> \n",
       "</tr>\n",
       "<tr>\n",
       "     <td>3</td>      <td>5</td>    <td>4.6813</td>   <td>0.001</td> <td>3.2536</td>  <td>6.1089</td>   <td>True</td> \n",
       "</tr>\n",
       "<tr>\n",
       "     <td>4</td>      <td>5</td>    <td>3.4036</td>   <td>0.001</td> <td>1.9592</td>  <td>4.8479</td>   <td>True</td> \n",
       "</tr>\n",
       "</table>"
      ],
      "text/plain": [
       "<class 'statsmodels.iolib.table.SimpleTable'>"
      ]
     },
     "execution_count": 68,
     "metadata": {},
     "output_type": "execute_result"
    }
   ],
   "source": [
    "comp=mc.MultiComparison(data=f['Overall_rating'],groups=f['Skill Moves'])\n",
    "post_hoc=comp.tukeyhsd(alpha=0.05)\n",
    "post_hoc.summary()"
   ]
  },
  {
   "cell_type": "markdown",
   "metadata": {},
   "source": [
    "### 2. Perform the following statistical analysis on the mobile network dataset given. The given data set contains information about the internet, calls, messages of various network. Data Cleaning and basic EDA process needs to be performed. \n",
    "\n",
    "a) With 95% & 99% Confidence Interval find the range estimate of average duration calls made by all the network. Which of the Intervals are wider? Interpret the results.\n",
    "\n",
    "b) Perform statistical analysis to check whether the networks are equally distributed in the dataset.\n",
    "\n",
    "c) Plot the distribution of duration with respect to each network in the same graph and Interpret the results from the graph.\n",
    "\n",
    "d)\tPerform statistical tests to identify the relation between item and duration. Detailed \n",
    "explanation of relation between the classes is required.\n",
    "\n",
    "e)\tPerform statistical tests to identify the relation between network and network_type. \n",
    "\n",
    "\n",
    "\n"
   ]
  },
  {
   "cell_type": "markdown",
   "metadata": {},
   "source": [
    "#### Note: \n",
    "1) Perform all the Statistical analysis with 5%(Significance level). \n",
    "\n",
    "2) Perform the test of normality and test of variance in the appropriate places."
   ]
  },
  {
   "cell_type": "code",
   "execution_count": 74,
   "metadata": {},
   "outputs": [
    {
     "data": {
      "text/html": [
       "<div>\n",
       "<style scoped>\n",
       "    .dataframe tbody tr th:only-of-type {\n",
       "        vertical-align: middle;\n",
       "    }\n",
       "\n",
       "    .dataframe tbody tr th {\n",
       "        vertical-align: top;\n",
       "    }\n",
       "\n",
       "    .dataframe thead th {\n",
       "        text-align: right;\n",
       "    }\n",
       "</style>\n",
       "<table border=\"1\" class=\"dataframe\">\n",
       "  <thead>\n",
       "    <tr style=\"text-align: right;\">\n",
       "      <th></th>\n",
       "      <th>date</th>\n",
       "      <th>duration</th>\n",
       "      <th>item</th>\n",
       "      <th>month</th>\n",
       "      <th>network</th>\n",
       "      <th>network_type</th>\n",
       "    </tr>\n",
       "  </thead>\n",
       "  <tbody>\n",
       "    <tr>\n",
       "      <th>0</th>\n",
       "      <td>15-10-14 6:58</td>\n",
       "      <td>221.321120</td>\n",
       "      <td>data</td>\n",
       "      <td>2014-11</td>\n",
       "      <td>data</td>\n",
       "      <td>data</td>\n",
       "    </tr>\n",
       "    <tr>\n",
       "      <th>1</th>\n",
       "      <td>15-10-14 6:58</td>\n",
       "      <td>81.610599</td>\n",
       "      <td>call</td>\n",
       "      <td>2014-11</td>\n",
       "      <td>Vodafone</td>\n",
       "      <td>mobile</td>\n",
       "    </tr>\n",
       "    <tr>\n",
       "      <th>2</th>\n",
       "      <td>15-10-14 14:46</td>\n",
       "      <td>143.109111</td>\n",
       "      <td>call</td>\n",
       "      <td>2014-11</td>\n",
       "      <td>Meteor</td>\n",
       "      <td>mobile</td>\n",
       "    </tr>\n",
       "    <tr>\n",
       "      <th>3</th>\n",
       "      <td>15-10-14 14:48</td>\n",
       "      <td>111.888670</td>\n",
       "      <td>call</td>\n",
       "      <td>2014-11</td>\n",
       "      <td>Tesco</td>\n",
       "      <td>mobile</td>\n",
       "    </tr>\n",
       "    <tr>\n",
       "      <th>4</th>\n",
       "      <td>15-10-14 17:27</td>\n",
       "      <td>246.695171</td>\n",
       "      <td>call</td>\n",
       "      <td>2014-11</td>\n",
       "      <td>Tesco</td>\n",
       "      <td>mobile</td>\n",
       "    </tr>\n",
       "  </tbody>\n",
       "</table>\n",
       "</div>"
      ],
      "text/plain": [
       "             date    duration  item    month   network network_type\n",
       "0   15-10-14 6:58  221.321120  data  2014-11      data         data\n",
       "1   15-10-14 6:58   81.610599  call  2014-11  Vodafone       mobile\n",
       "2  15-10-14 14:46  143.109111  call  2014-11    Meteor       mobile\n",
       "3  15-10-14 14:48  111.888670  call  2014-11     Tesco       mobile\n",
       "4  15-10-14 17:27  246.695171  call  2014-11     Tesco       mobile"
      ]
     },
     "execution_count": 74,
     "metadata": {},
     "output_type": "execute_result"
    }
   ],
   "source": [
    "p = pd.read_csv(r'C:\\Users\\SACHIN\\Desktop\\Stats for ML\\Stats_mini\\Set-A\\phone.csv')\n",
    "p.head()"
   ]
  },
  {
   "cell_type": "code",
   "execution_count": 110,
   "metadata": {},
   "outputs": [
    {
     "data": {
      "text/plain": [
       "(820, 6)"
      ]
     },
     "execution_count": 110,
     "metadata": {},
     "output_type": "execute_result"
    }
   ],
   "source": [
    "p.shape"
   ]
  },
  {
   "cell_type": "markdown",
   "metadata": {},
   "source": [
    "#### a) With 95% & 99% Confidence Interval find the range estimate of average duration calls made by all the network. Which of the Intervals are wider? Interpret the results."
   ]
  },
  {
   "cell_type": "code",
   "execution_count": 80,
   "metadata": {},
   "outputs": [
    {
     "name": "stdout",
     "output_type": "stream",
     "text": [
      "Confidence Interval with 95%: (141.1778397288302, 147.4320313908407)\n"
     ]
    }
   ],
   "source": [
    "n=len(p.duration)\n",
    "xbar = np.mean(p.duration)\n",
    "sigma = np.std(p.duration,ddof=1)\n",
    "se = sigma/np.sqrt(n)\n",
    "print(\"Confidence Interval with 95%:\",stats.norm.interval(0.95,loc=xbar,scale=se))"
   ]
  },
  {
   "cell_type": "code",
   "execution_count": 81,
   "metadata": {},
   "outputs": [
    {
     "name": "stdout",
     "output_type": "stream",
     "text": [
      "Confidence Interval with 99%: (140.19523500408818, 148.41463611558274)\n"
     ]
    }
   ],
   "source": [
    "n=len(p.duration)\n",
    "xbar = np.mean(p.duration)\n",
    "sigma = np.std(p.duration,ddof=1)\n",
    "se = sigma/np.sqrt(n)\n",
    "print(\"Confidence Interval with 99%:\",stats.norm.interval(0.99,loc=xbar,scale=se))"
   ]
  },
  {
   "cell_type": "code",
   "execution_count": 87,
   "metadata": {},
   "outputs": [],
   "source": [
    "#range with 99% is wider"
   ]
  },
  {
   "cell_type": "markdown",
   "metadata": {},
   "source": [
    "### b) Perform statistical analysis to check whether the networks are equally distributed in the dataset."
   ]
  },
  {
   "cell_type": "code",
   "execution_count": 93,
   "metadata": {},
   "outputs": [
    {
     "data": {
      "text/plain": [
       "array(['data', 'Vodafone', 'Meteor', 'Tesco', 'Three', 'voicemail',\n",
       "       'landline'], dtype=object)"
      ]
     },
     "execution_count": 93,
     "metadata": {},
     "output_type": "execute_result"
    }
   ],
   "source": [
    "p['network'].unique()"
   ]
  },
  {
   "cell_type": "code",
   "execution_count": 95,
   "metadata": {},
   "outputs": [],
   "source": [
    "o = p.network.value_counts().values\n",
    "e = np.array([117, 117, 117, 117, 117, 117, 117])"
   ]
  },
  {
   "cell_type": "code",
   "execution_count": 99,
   "metadata": {},
   "outputs": [
    {
     "data": {
      "text/plain": [
       "117.14285714285714"
      ]
     },
     "execution_count": 99,
     "metadata": {},
     "output_type": "execute_result"
    }
   ],
   "source": [
    "len(p)/7"
   ]
  },
  {
   "cell_type": "code",
   "execution_count": 97,
   "metadata": {},
   "outputs": [
    {
     "data": {
      "text/plain": [
       "Power_divergenceResult(statistic=307.7863247863248, pvalue=1.7542899243536984e-63)"
      ]
     },
     "execution_count": 97,
     "metadata": {},
     "output_type": "execute_result"
    }
   ],
   "source": [
    "chisquare(o,e)"
   ]
  },
  {
   "cell_type": "code",
   "execution_count": 94,
   "metadata": {},
   "outputs": [],
   "source": [
    "#since p value is less than alpha reject null hypothesis and it can be inferred that networks are not equally distributed"
   ]
  },
  {
   "cell_type": "markdown",
   "metadata": {},
   "source": [
    "### c) Plot the distribution of duration with respect to each network in the same graph and Interpret the results from the graph."
   ]
  },
  {
   "cell_type": "code",
   "execution_count": 105,
   "metadata": {},
   "outputs": [
    {
     "data": {
      "text/plain": [
       "<matplotlib.axes._subplots.AxesSubplot at 0x23250b32108>"
      ]
     },
     "execution_count": 105,
     "metadata": {},
     "output_type": "execute_result"
    },
    {
     "data": {
      "image/png": "[encoded data removed]",
      "text/plain": [
       "<Figure size 720x504 with 1 Axes>"
      ]
     },
     "metadata": {
      "needs_background": "light"
     },
     "output_type": "display_data"
    }
   ],
   "source": [
    "p.groupby('network')['duration'].mean().plot(kind='bar',figsize=(10,7))\n"
   ]
  },
  {
   "cell_type": "code",
   "execution_count": 106,
   "metadata": {},
   "outputs": [],
   "source": [
    "# from the graph, we can interpret that average duration of voicemail is the highest followed by vodafone and tesco."
   ]
  },
  {
   "cell_type": "markdown",
   "metadata": {},
   "source": [
    "### d) Perform statistical tests to identify the relation between item and duration. Detailed explanation of relation between the classes is required."
   ]
  },
  {
   "cell_type": "code",
   "execution_count": 128,
   "metadata": {
    "scrolled": true
   },
   "outputs": [
    {
     "name": "stdout",
     "output_type": "stream",
     "text": [
      "(0.9912639856338501, 0.48521795868873596)\n",
      "(0.9973042011260986, 0.7803382277488708)\n",
      "(0.9943404197692871, 0.37839275598526)\n",
      "LeveneResult(statistic=3.4300976447008478, pvalue=0.03285087780533987)\n",
      "F_onewayResult(statistic=1.9313964906864995, pvalue=0.1456068656611744)\n"
     ]
    }
   ],
   "source": [
    "dat=p[p['item']=='data']['duration']\n",
    "cal=p[p['item']=='call']['duration']\n",
    "sms=p[p['item']=='sms']['duration']\n",
    "print(stats.shapiro(dat))\n",
    "print(stats.shapiro(cal))\n",
    "print(stats.shapiro(sms))\n",
    "print(stats.levene(dat,cal,sms))\n",
    "print(stats.f_oneway(dat,cal,sms))"
   ]
  },
  {
   "cell_type": "code",
   "execution_count": 129,
   "metadata": {},
   "outputs": [],
   "source": [
    "#since p-value is greater than alpha, we can say that mean of all the treatments as same"
   ]
  },
  {
   "cell_type": "markdown",
   "metadata": {},
   "source": [
    "### e) Perform statistical tests to identify the relation between network and network_type."
   ]
  },
  {
   "cell_type": "markdown",
   "metadata": {},
   "source": [
    "##### H0: The network and network type are independant\n",
    "\n",
    "##### H1: the network and network type are dependant"
   ]
  },
  {
   "cell_type": "code",
   "execution_count": 131,
   "metadata": {},
   "outputs": [
    {
     "data": {
      "text/plain": [
       "(2460.0,\n",
       " 0.0,\n",
       " 18,\n",
       " array([[ 15.91463415,   4.45609756,  63.76463415,   2.86463415],\n",
       "        [ 15.36585366,   4.30243902,  61.56585366,   2.76585366],\n",
       "        [ 39.32926829,  11.01219512, 157.57926829,   7.07926829],\n",
       "        [ 39.32926829,  11.01219512, 157.57926829,   7.07926829],\n",
       "        [ 27.43902439,   7.68292683, 109.93902439,   4.93902439],\n",
       "        [  7.68292683,   2.15121951,  30.78292683,   1.38292683],\n",
       "        [  4.93902439,   1.38292683,  19.78902439,   0.88902439]]))"
      ]
     },
     "execution_count": 131,
     "metadata": {},
     "output_type": "execute_result"
    }
   ],
   "source": [
    "obs=pd.crosstab(p['network'],p['network_type'])\n",
    "stats.chi2_contingency(obs)"
   ]
  },
  {
   "cell_type": "markdown",
   "metadata": {},
   "source": [
    "# END"
   ]
  },
  {
   "cell_type": "code",
   "execution_count": null,
   "metadata": {},
   "outputs": [],
   "source": []
  }
 ],
 "metadata": {
  "kernelspec": {
   "display_name": "Python 3",
   "language": "python",
   "name": "python3"
  },
  "language_info": {
   "codemirror_mode": {
    "name": "ipython",
    "version": 3
   },
   "file_extension": ".py",
   "mimetype": "text/x-python",
   "name": "python",
   "nbconvert_exporter": "python",
   "pygments_lexer": "ipython3",
   "version": "3.7.6"
  }
 },
 "nbformat": 4,
 "nbformat_minor": 4
}
